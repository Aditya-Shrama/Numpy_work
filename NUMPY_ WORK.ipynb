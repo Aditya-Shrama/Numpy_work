{
 "cells": [
  {
   "cell_type": "code",
   "execution_count": null,
   "id": "5c7ebfbf",
   "metadata": {},
   "outputs": [],
   "source": [
    "# Q.1 = Write statement to import numpy ? \n",
    "\n",
    "Q.2 = Create an array using numpy ? \n",
    "\n",
    "Q.3 = Create an array of 10 random integers ?\n",
    "\n",
    "Q.4 = Create an array of elements from  10-20? \n",
    "\n",
    "Q.5 = Create an array which contains value 5 , 10 times ? \n",
    "\n",
    "Q.6 = Create a one dimensional array and convert that into 3*3 matrix ? \n",
    "\n",
    "Q.7 = Create a 2D array of size 3*3 but all the elements should be between 0 to 1 ? \n",
    "\n",
    "Q.8 = Concatenate 2D array horizontally and vertically ? "
   ]
  },
  {
   "cell_type": "code",
   "execution_count": null,
   "id": "33877749",
   "metadata": {},
   "outputs": [],
   "source": []
  },
  {
   "cell_type": "markdown",
   "id": "4c1b2c73",
   "metadata": {},
   "source": [
    "# Q1, Q.2 = Create an array using numpy ? "
   ]
  },
  {
   "cell_type": "code",
   "execution_count": 45,
   "id": "d154e8f5",
   "metadata": {},
   "outputs": [
    {
     "data": {
      "text/plain": [
       "array([1, 2, 3, 4, 5])"
      ]
     },
     "execution_count": 45,
     "metadata": {},
     "output_type": "execute_result"
    }
   ],
   "source": [
    "import numpy as np\n",
    "a  = [1,2,3,4,5]\n",
    "no = np.array(a)\n",
    "no"
   ]
  },
  {
   "cell_type": "markdown",
   "id": "cc18b60c",
   "metadata": {},
   "source": [
    "# Q.4 = Create an array of elements from  10-20? \n"
   ]
  },
  {
   "cell_type": "code",
   "execution_count": 52,
   "id": "1504ef4c",
   "metadata": {},
   "outputs": [
    {
     "data": {
      "text/plain": [
       "array([10, 11, 12, 13, 14, 15, 16, 17, 18, 19, 20])"
      ]
     },
     "execution_count": 52,
     "metadata": {},
     "output_type": "execute_result"
    }
   ],
   "source": [
    "a = np.arange(10,21)\n",
    "a"
   ]
  },
  {
   "cell_type": "markdown",
   "id": "ff24bb23",
   "metadata": {},
   "source": [
    "# Q.5 = Create an array which contains value 5 , 10 times ? \n"
   ]
  },
  {
   "cell_type": "code",
   "execution_count": 53,
   "id": "ab517439",
   "metadata": {},
   "outputs": [
    {
     "data": {
      "text/plain": [
       "array([5, 5, 5, 5, 5, 5, 5, 5, 5, 5])"
      ]
     },
     "execution_count": 53,
     "metadata": {},
     "output_type": "execute_result"
    }
   ],
   "source": [
    "import numpy as np\n",
    "\n",
    "a = np.full(10, 5)\n",
    "a\n"
   ]
  },
  {
   "cell_type": "markdown",
   "id": "68f8dfc7",
   "metadata": {},
   "source": [
    "# Q.6 = Create a one dimensional array and convert that into 3*3 matrix ? \n"
   ]
  },
  {
   "cell_type": "code",
   "execution_count": 54,
   "id": "923d513f",
   "metadata": {},
   "outputs": [],
   "source": [
    "a  = np.random.randint(1,18,9)"
   ]
  },
  {
   "cell_type": "code",
   "execution_count": 55,
   "id": "7ace2924",
   "metadata": {},
   "outputs": [
    {
     "data": {
      "text/plain": [
       "array([15,  8,  6, 12, 11,  9,  6,  5, 15])"
      ]
     },
     "execution_count": 55,
     "metadata": {},
     "output_type": "execute_result"
    }
   ],
   "source": [
    "a"
   ]
  },
  {
   "cell_type": "code",
   "execution_count": 58,
   "id": "6a516696",
   "metadata": {},
   "outputs": [
    {
     "data": {
      "text/plain": [
       "array([[15,  8,  6],\n",
       "       [12, 11,  9],\n",
       "       [ 6,  5, 15]])"
      ]
     },
     "execution_count": 58,
     "metadata": {},
     "output_type": "execute_result"
    }
   ],
   "source": [
    "a.reshape(3,3)"
   ]
  },
  {
   "cell_type": "markdown",
   "id": "f91e1e5a",
   "metadata": {},
   "source": [
    "# Q.7 = Create a 2D array of size 3*3 but all the elements should be between 0 to 1 ? \n"
   ]
  },
  {
   "cell_type": "code",
   "execution_count": 62,
   "id": "25b4b16b",
   "metadata": {},
   "outputs": [
    {
     "data": {
      "text/plain": [
       "array([[0.47667862, 0.80316284, 0.32052937],\n",
       "       [0.56195352, 0.07877863, 0.29643121],\n",
       "       [0.20857662, 0.82142422, 0.90706238]])"
      ]
     },
     "execution_count": 62,
     "metadata": {},
     "output_type": "execute_result"
    }
   ],
   "source": [
    "a  =np.random.rand(3,3)\n",
    "a"
   ]
  },
  {
   "cell_type": "markdown",
   "id": "74698bc1",
   "metadata": {},
   "source": [
    "# Q.8 = Concatenate 2D array horizontally and vertically ? "
   ]
  },
  {
   "cell_type": "code",
   "execution_count": 63,
   "id": "354cbc96",
   "metadata": {},
   "outputs": [
    {
     "name": "stdout",
     "output_type": "stream",
     "text": [
      "Horizontally concatenated array:\n",
      "[[1 2 5 6]\n",
      " [3 4 7 8]]\n",
      "Vertically concatenated array:\n",
      "[[1 2]\n",
      " [3 4]\n",
      " [5 6]\n",
      " [7 8]]\n"
     ]
    }
   ],
   "source": [
    "import numpy as np\n",
    "\n",
    "array1 = np.array([[1, 2], [3, 4]])\n",
    "array2 = np.array([[5, 6], [7, 8]])\n",
    "\n",
    "# Concatenate horizontally\n",
    "\n",
    "concatenated_horizontal = np.concatenate((array1, array2), axis=1)\n",
    "print(\"Horizontally concatenated array:\")\n",
    "print(concatenated_horizontal)\n",
    "\n",
    "# Concatenate vertically\n",
    "concatenated_vertical = np.concatenate((array1, array2), axis=0)\n",
    "print(\"Vertically concatenated array:\")\n",
    "print(concatenated_vertical)\n"
   ]
  },
  {
   "cell_type": "code",
   "execution_count": null,
   "id": "c888cc4e",
   "metadata": {},
   "outputs": [],
   "source": []
  }
 ],
 "metadata": {
  "kernelspec": {
   "display_name": "Python 3 (ipykernel)",
   "language": "python",
   "name": "python3"
  },
  "language_info": {
   "codemirror_mode": {
    "name": "ipython",
    "version": 3
   },
   "file_extension": ".py",
   "mimetype": "text/x-python",
   "name": "python",
   "nbconvert_exporter": "python",
   "pygments_lexer": "ipython3",
   "version": "3.9.7"
  }
 },
 "nbformat": 4,
 "nbformat_minor": 5
}
